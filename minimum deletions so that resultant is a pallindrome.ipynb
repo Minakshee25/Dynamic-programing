{
 "cells": [
  {
   "cell_type": "code",
   "execution_count": null,
   "metadata": {},
   "outputs": [],
   "source": [
    "s=\"aebcbda\"\n",
    "def lcs(s1,s2,x,y):\n",
    "    t=[[0]*(y+1) for i in range(x+1)]\n",
    "    for i in range(1,x+1):\n",
    "        for j in range(1,y+1):\n",
    "            if(s1[x-1]==s2[y-1]):\n",
    "                t[i][j] = 1+t[i-1][j-1]\n",
    "            else:\n",
    "                t[i][j] = max(t[i-1][j],t[i][j-1])\n",
    "    return t[x][y]\n",
    "def func(s):\n",
    "    lps = lcs(s,s[::-1])\n",
    "    return (len(s)-lps)"
   ]
  },
  {
   "cell_type": "code",
   "execution_count": 3,
   "metadata": {},
   "outputs": [
    {
     "name": "stdout",
     "output_type": "stream",
     "text": [
      "1\n",
      "geeksforgeeks\n",
      "8\n"
     ]
    }
   ],
   "source": [
    "#User function Template for python3\n",
    "\n",
    "class Solution:\n",
    "    def lcs(self,s1,s2,x,y):\n",
    "        t=[[0]*(y+1) for i in range(x+1)]\n",
    "        for i in range(1,x+1):\n",
    "            for j in range(1,y+1):\n",
    "                if(s1[i-1]==s2[j-1]):\n",
    "                    t[i][j] = 1+t[i-1][j-1]\n",
    "                else:\n",
    "                    t[i][j] = max(t[i-1][j],t[i][j-1])\n",
    "        return t[x][y]\n",
    "    def minimumNumberOfDeletions(self,s):\n",
    "        # code here \n",
    "        lps = self.lcs(s,s[::-1],len(s),len(s))\n",
    "        return (len(s)-lps)\n",
    "\n",
    "#{ \n",
    "#  Driver Code Starts\n",
    "#Initial Template for Python 3\n",
    "\n",
    "\n",
    "if __name__ == '__main__': \n",
    "    t = int (input ())\n",
    "    for _ in range (t):\n",
    "        \n",
    "        S=input()\n",
    "\n",
    "        solObj = Solution()\n",
    "        print(solObj.minimumNumberOfDeletions(S))\n",
    "# } Driver Code Ends"
   ]
  },
  {
   "cell_type": "code",
   "execution_count": null,
   "metadata": {},
   "outputs": [],
   "source": []
  }
 ],
 "metadata": {
  "kernelspec": {
   "display_name": "Python 3",
   "language": "python",
   "name": "python3"
  },
  "language_info": {
   "codemirror_mode": {
    "name": "ipython",
    "version": 3
   },
   "file_extension": ".py",
   "mimetype": "text/x-python",
   "name": "python",
   "nbconvert_exporter": "python",
   "pygments_lexer": "ipython3",
   "version": "3.7.6"
  }
 },
 "nbformat": 4,
 "nbformat_minor": 4
}
