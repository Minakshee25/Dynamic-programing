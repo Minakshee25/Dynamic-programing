{
 "cells": [
  {
   "cell_type": "code",
   "execution_count": 16,
   "metadata": {},
   "outputs": [
    {
     "name": "stdout",
     "output_type": "stream",
     "text": [
      "1\n",
      "aaabba\n",
      "1\n"
     ]
    }
   ],
   "source": [
    "#User function Template for python3\n",
    "import sys\n",
    "class Solution:\n",
    "    def solve(self,s,i,j):\n",
    "        if(i>=j):\n",
    "            return 0\n",
    "        elif(s[i:j+1]==s[i:j+1][::-1]):\n",
    "            return 0\n",
    "        else:\n",
    "            mn = sys.maxsize\n",
    "            for k in range(i,j):\n",
    "                temp = 1 + self.solve(s,i,k) + self.solve(s,k+1,j)\n",
    "                mn = min(temp,mn)\n",
    "        return mn\n",
    "    def palindromicPartition(self, string):\n",
    "        # code here\n",
    "        i=0\n",
    "        j=len(string)-1\n",
    "        return self.solve(string,i,j)\n",
    "\n",
    "#{ \n",
    "#  Driver Code Starts\n",
    "#Initial Template for Python 3\n",
    "\n",
    "if __name__ == '__main__':\n",
    "    t = int(input())\n",
    "    for _ in range (t):\n",
    "        string = input()\n",
    "        \n",
    "        ob = Solution()\n",
    "        print(ob.palindromicPartition(string))\n",
    "# } Driver Code Ends"
   ]
  },
  {
   "cell_type": "code",
   "execution_count": 30,
   "metadata": {},
   "outputs": [
    {
     "name": "stdout",
     "output_type": "stream",
     "text": [
      "1\n",
      "ueokcxsxomszsnsnhmlqlggkrnarwtkszaebxw\n",
      "28\n"
     ]
    }
   ],
   "source": [
    "#User function Template for python3\n",
    "import sys\n",
    "class Solution:\n",
    "    t=[[-1]*(501) for i in range(501)]\n",
    "    def solve(self,s,i,j):\n",
    "        if(i>=j):\n",
    "            return 0\n",
    "        elif(Solution.t[i][j]!=-1):\n",
    "            return Solution.t[i][j]\n",
    "        elif(s[i:j+1]==s[i:j+1][::-1]):\n",
    "            Solution.t[i][j] = 0\n",
    "            return 0\n",
    "        else:\n",
    "            mn = sys.maxsize\n",
    "            for k in range(i,j):\n",
    "                temp = 1 + self.solve(s,i,k) + self.solve(s,k+1,j)\n",
    "                mn = min(temp,mn)\n",
    "        Solution.t[i][j] = mn\n",
    "        return mn\n",
    "    def palindromicPartition(self, string):\n",
    "        # code here\n",
    "        i=0\n",
    "        j=len(string)-1\n",
    "        return self.solve(string,i,j)\n",
    "\n",
    "#{ \n",
    "#  Driver Code Starts\n",
    "#Initial Template for Python 3\n",
    "\n",
    "if __name__ == '__main__':\n",
    "    t = int(input())\n",
    "    for _ in range (t):\n",
    "        string = input()\n",
    "        \n",
    "        ob = Solution()\n",
    "        print(ob.palindromicPartition(string))\n",
    "# } Driver Code Ends"
   ]
  },
  {
   "cell_type": "code",
   "execution_count": 38,
   "metadata": {},
   "outputs": [
    {
     "name": "stdout",
     "output_type": "stream",
     "text": [
      "1\n",
      "ueokcxsxomszsnsnhmlqlggkrnarwtkszaebxw\n",
      "28\n"
     ]
    }
   ],
   "source": [
    "#User function Template for python3\n",
    "import sys\n",
    "class Solution:\n",
    "    t=[[-1]*(501) for i in range(501)]\n",
    "    def solve(self,s,i,j):\n",
    "        if(i>=j):\n",
    "            return 0\n",
    "        elif(Solution.t[i][j]!=-1):\n",
    "            return Solution.t[i][j]\n",
    "        elif(s[i:j+1]==s[i:j+1][::-1]):\n",
    "            Solution.t[i][j] = 0\n",
    "            return 0\n",
    "        else:\n",
    "            mn = sys.maxsize\n",
    "            for k in range(i,j):\n",
    "                if(Solution.t[i][k]!=-1):\n",
    "                    left = Solution.t[i][k]\n",
    "                else:\n",
    "                    left = self.solve(s,i,k)\n",
    "                    Solution.t[i][k] = left\n",
    "                if(Solution.t[k+1][j] != -1):\n",
    "                    right = Solution.t[k+1][j]\n",
    "                else:\n",
    "                    right = self.solve(s,k+1,j)\n",
    "                    Solution.t[k+1][j] = right\n",
    "                temp = 1 + left + right\n",
    "                mn = min(temp,mn)\n",
    "        Solution.t[i][j] = mn\n",
    "        return mn\n",
    "    def palindromicPartition(self, string):\n",
    "        # code here\n",
    "        i=0\n",
    "        j=len(string)-1\n",
    "        return self.solve(string,i,j)\n",
    "\n",
    "#{ \n",
    "#  Driver Code Starts\n",
    "#Initial Template for Python 3\n",
    "\n",
    "if __name__ == '__main__':\n",
    "    t = int(input())\n",
    "    for _ in range (t):\n",
    "        string = input()\n",
    "        ob = Solution()\n",
    "        print(ob.palindromicPartition(string))\n",
    "# } Driver Code Ends"
   ]
  },
  {
   "cell_type": "code",
   "execution_count": null,
   "metadata": {},
   "outputs": [],
   "source": []
  }
 ],
 "metadata": {
  "kernelspec": {
   "display_name": "Python 3",
   "language": "python",
   "name": "python3"
  },
  "language_info": {
   "codemirror_mode": {
    "name": "ipython",
    "version": 3
   },
   "file_extension": ".py",
   "mimetype": "text/x-python",
   "name": "python",
   "nbconvert_exporter": "python",
   "pygments_lexer": "ipython3",
   "version": "3.7.6"
  }
 },
 "nbformat": 4,
 "nbformat_minor": 4
}
