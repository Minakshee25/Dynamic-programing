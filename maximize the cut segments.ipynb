{
 "cells": [
  {
   "cell_type": "code",
   "execution_count": null,
   "metadata": {},
   "outputs": [],
   "source": []
  },
  {
   "cell_type": "code",
   "execution_count": 29,
   "metadata": {},
   "outputs": [
    {
     "name": "stdout",
     "output_type": "stream",
     "text": [
      "1\n",
      "7\n",
      "5 2 2\n",
      "2\n"
     ]
    }
   ],
   "source": [
    "#User function Template for python3\n",
    "\n",
    "import sys\n",
    "class Solution:\n",
    "    \n",
    "    #Function to find the maximum number of cuts.\n",
    "    def maximizeTheCuts(self,n,x,y,z):\n",
    "        #code here\n",
    "        t=[[-sys.maxsize-1]*(n+1) for i in range(4)]\n",
    "        for i in range(1,4):\n",
    "            t[i][0]=0\n",
    "        l=[x,y,z]\n",
    "        \n",
    "        for i in range(1,4):\n",
    "            for j in range(1,n+1):\n",
    "                if(l[i-1]<=j):\n",
    "                    t[i][j]=max(1+t[i][j-l[i-1]],t[i-1][j])\n",
    "                else:\n",
    "                    t[i][j]=t[i-1][j]\n",
    "        if(t[3][n]<0):\n",
    "            return 0\n",
    "        else:\n",
    "            return t[3][n]\n",
    "\n",
    "#{ \n",
    "#  Driver Code Starts\n",
    "#Initial Template for Python 3\n",
    "\n",
    "#contributed by RavinderSinghPB\n",
    "if __name__ == '__main__':\n",
    "    t=int(input())\n",
    "    for tcs in range(t):\n",
    "        n=int(input())\n",
    "        x,y,z=[int(x) for x in input().split()]\n",
    "        \n",
    "        print(Solution().maximizeTheCuts(n,x,y,z))\n",
    "# } Driver Code Ends"
   ]
  },
  {
   "cell_type": "code",
   "execution_count": 27,
   "metadata": {},
   "outputs": [
    {
     "data": {
      "text/plain": [
       "-9223372036854775808"
      ]
     },
     "execution_count": 27,
     "metadata": {},
     "output_type": "execute_result"
    }
   ],
   "source": [
    "import sys\n",
    "-sys.maxsize-1"
   ]
  },
  {
   "cell_type": "code",
   "execution_count": null,
   "metadata": {},
   "outputs": [],
   "source": []
  }
 ],
 "metadata": {
  "kernelspec": {
   "display_name": "Python 3",
   "language": "python",
   "name": "python3"
  },
  "language_info": {
   "codemirror_mode": {
    "name": "ipython",
    "version": 3
   },
   "file_extension": ".py",
   "mimetype": "text/x-python",
   "name": "python",
   "nbconvert_exporter": "python",
   "pygments_lexer": "ipython3",
   "version": "3.7.6"
  }
 },
 "nbformat": 4,
 "nbformat_minor": 4
}
