{
 "cells": [
  {
   "cell_type": "code",
   "execution_count": 3,
   "metadata": {},
   "outputs": [
    {
     "data": {
      "text/plain": [
       "2"
      ]
     },
     "execution_count": 3,
     "metadata": {},
     "output_type": "execute_result"
    }
   ],
   "source": [
    "def lcs(s1,s2,x,y):\n",
    "    t=[[0]*(y+1) for i in range(x+1)]\n",
    "    for i in range(1,x+1):\n",
    "        for j in range(1,y+1):\n",
    "            if(s1[i-1]==s2[j-1] and i!=j):\n",
    "                t[i][j] = 1+t[i-1][j-1]\n",
    "            else:\n",
    "                t[i][j] = max(t[i-1][j],t[i][j-1])\n",
    "    return t[x][y]\n",
    "s=\"axxxy\"\n",
    "lcs(s,s,len(s),len(s))"
   ]
  },
  {
   "cell_type": "code",
   "execution_count": 6,
   "metadata": {},
   "outputs": [
    {
     "name": "stdout",
     "output_type": "stream",
     "text": [
      "1\n",
      "aab\n",
      "1\n"
     ]
    }
   ],
   "source": [
    "#User function Template for python3\n",
    "\n",
    "class Solution:\n",
    "    def lcs(self,s1,s2,x,y):\n",
    "        t=[[0]*(y+1) for i in range(x+1)]\n",
    "        for i in range(1,x+1):\n",
    "            for j in range(1,y+1):\n",
    "                if(s1[i-1]==s2[j-1] and i!=j):\n",
    "                    t[i][j] = 1+t[i-1][j-1]\n",
    "                else:\n",
    "                    t[i][j] = max(t[i-1][j],t[i][j-1])\n",
    "        return t[x][y]\n",
    "    def LongestRepeatingSubsequence(self, s):\n",
    "        return self.lcs(s,s,len(s),len(s))\n",
    "\n",
    "#{ \n",
    "#  Driver Code Starts\n",
    "#Initial Template for Python 3\n",
    "\n",
    "if __name__ == '__main__':\n",
    "\tT=int(input())\n",
    "\tfor i in range(T):\n",
    "\t\ts = input()\n",
    "\t\tob = Solution()\n",
    "\t\tans = ob.LongestRepeatingSubsequence(s)\n",
    "\t\tprint(ans)\n",
    "\n",
    "# } Driver Code Ends"
   ]
  },
  {
   "cell_type": "code",
   "execution_count": null,
   "metadata": {},
   "outputs": [],
   "source": []
  }
 ],
 "metadata": {
  "kernelspec": {
   "display_name": "Python 3",
   "language": "python",
   "name": "python3"
  },
  "language_info": {
   "codemirror_mode": {
    "name": "ipython",
    "version": 3
   },
   "file_extension": ".py",
   "mimetype": "text/x-python",
   "name": "python",
   "nbconvert_exporter": "python",
   "pygments_lexer": "ipython3",
   "version": "3.7.6"
  }
 },
 "nbformat": 4,
 "nbformat_minor": 4
}
