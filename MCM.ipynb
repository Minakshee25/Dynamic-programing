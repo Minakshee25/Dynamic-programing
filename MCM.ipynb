{
 "cells": [
  {
   "cell_type": "code",
   "execution_count": 21,
   "metadata": {},
   "outputs": [
    {
     "name": "stdout",
     "output_type": "stream",
     "text": [
      "9000\n",
      "27000\n",
      "1500\n",
      "4500\n"
     ]
    },
    {
     "data": {
      "text/plain": [
       "4500"
      ]
     },
     "execution_count": 21,
     "metadata": {},
     "output_type": "execute_result"
    }
   ],
   "source": [
    "import sys\n",
    "arr=[10, 30, 5, 60]\n",
    "t=[[-1]*(101) for i in range(101)]\n",
    "def solve(arr,i,j):\n",
    "    if(i>=j):\n",
    "        return 0\n",
    "    elif(t[i][j]!=-1):\n",
    "        return t[i][j]\n",
    "    else:\n",
    "        mn=sys.maxsize\n",
    "        for k in range(i,j):\n",
    "            tempans = solve(arr,i,k) + solve(arr,k+1,j) + arr[i-1]*arr[k]*arr[j]\n",
    "            print(tempans)\n",
    "            if(tempans<mn):\n",
    "                mn=tempans\n",
    "        t[i][j] = mn\n",
    "        return t[i][j]\n",
    "solve(arr,1,len(arr)-1)"
   ]
  },
  {
   "cell_type": "code",
   "execution_count": 18,
   "metadata": {},
   "outputs": [
    {
     "data": {
      "text/plain": [
       "9223372036854775807"
      ]
     },
     "execution_count": 18,
     "metadata": {},
     "output_type": "execute_result"
    }
   ],
   "source": [
    "sys.maxsize"
   ]
  },
  {
   "cell_type": "code",
   "execution_count": 26,
   "metadata": {},
   "outputs": [
    {
     "name": "stdout",
     "output_type": "stream",
     "text": [
      "1\n",
      "3\n",
      "3 3 3\n",
      "27\n"
     ]
    }
   ],
   "source": [
    "#User function Template for python3\n",
    "\n",
    "class Solution:\n",
    "    t=[[-1]*(101) for i in range(101)]\n",
    "    def solve(self,arr,i,j):\n",
    "        if(i>=j):\n",
    "            return 0\n",
    "        elif(Solution.t[i][j]!=-1):\n",
    "            return Solution.t[i][j]\n",
    "        else:\n",
    "            mn=sys.maxsize\n",
    "            for k in range(i,j):\n",
    "                tempans = self.solve(arr,i,k) + self.solve(arr,k+1,j) + arr[i-1]*arr[k]*arr[j]\n",
    "                if(tempans<mn):\n",
    "                    mn=tempans\n",
    "            Solution.t[i][j] = mn\n",
    "            return Solution.t[i][j]\n",
    "    def matrixMultiplication(self, N, arr):\n",
    "        # code here\n",
    "        return self.solve(arr,1,N-1)\n",
    "        \n",
    "\n",
    "#{ \n",
    "#  Driver Code Starts\n",
    "#Initial Template for Python 3\n",
    "\n",
    "if __name__ == '__main__':\n",
    "    t = int(input())\n",
    "    for _ in range(t):\n",
    "        N = int(input())\n",
    "        arr = input().split()\n",
    "        for i in range(N):\n",
    "            arr[i] = int(arr[i])\n",
    "        \n",
    "        ob = Solution()\n",
    "        print(ob.matrixMultiplication(N, arr))\n",
    "# } Driver Code Ends"
   ]
  },
  {
   "cell_type": "code",
   "execution_count": null,
   "metadata": {},
   "outputs": [],
   "source": []
  }
 ],
 "metadata": {
  "kernelspec": {
   "display_name": "Python 3",
   "language": "python",
   "name": "python3"
  },
  "language_info": {
   "codemirror_mode": {
    "name": "ipython",
    "version": 3
   },
   "file_extension": ".py",
   "mimetype": "text/x-python",
   "name": "python",
   "nbconvert_exporter": "python",
   "pygments_lexer": "ipython3",
   "version": "3.7.6"
  }
 },
 "nbformat": 4,
 "nbformat_minor": 4
}
