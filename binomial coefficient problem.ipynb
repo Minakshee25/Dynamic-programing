{
 "cells": [
  {
   "cell_type": "code",
   "execution_count": 1,
   "metadata": {},
   "outputs": [
    {
     "name": "stdout",
     "output_type": "stream",
     "text": [
      "1\n",
      "4 5\n",
      "0\n"
     ]
    }
   ],
   "source": [
    "#User function Template for python3\n",
    "\n",
    "class Solution:\n",
    "    def nCr(self, n, r):\n",
    "        # code here\n",
    "        C = [[0]*(r+1) for i in range(n+1)]\n",
    "        \n",
    "        for i in range(n+1):\n",
    "            for j in range(min(i,r)+1):\n",
    "                if j==0 or j==i:\n",
    "                    C[i][j] = 1\n",
    "                else:\n",
    "                    C[i][j] = (C[i-1][j-1] + C[i-1][j])%1000000007\n",
    "        return C[n][r]\n",
    "\n",
    "#{ \n",
    "#  Driver Code Starts\n",
    "#Initial Template for Python 3\n",
    "\n",
    "if __name__ == '__main__':\n",
    "    t = int(input())\n",
    "    for _ in range(t):\n",
    "        n, r = [int(x) for x in input().split()]\n",
    "        \n",
    "        ob = Solution()\n",
    "        print(ob.nCr(n, r))\n",
    "# } Driver Code Ends"
   ]
  },
  {
   "cell_type": "code",
   "execution_count": null,
   "metadata": {},
   "outputs": [],
   "source": []
  }
 ],
 "metadata": {
  "kernelspec": {
   "display_name": "Python 3",
   "language": "python",
   "name": "python3"
  },
  "language_info": {
   "codemirror_mode": {
    "name": "ipython",
    "version": 3
   },
   "file_extension": ".py",
   "mimetype": "text/x-python",
   "name": "python",
   "nbconvert_exporter": "python",
   "pygments_lexer": "ipython3",
   "version": "3.7.6"
  }
 },
 "nbformat": 4,
 "nbformat_minor": 4
}
