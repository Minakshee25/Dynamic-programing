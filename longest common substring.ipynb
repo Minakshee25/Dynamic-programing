{
 "cells": [
  {
   "cell_type": "code",
   "execution_count": 3,
   "metadata": {},
   "outputs": [
    {
     "name": "stdout",
     "output_type": "stream",
     "text": [
      "4\n"
     ]
    }
   ],
   "source": [
    "def lcs(i, j, count):\n",
    " \n",
    "    if (i == 0 or j == 0):\n",
    "        return count\n",
    " \n",
    "    if (X[i - 1] == Y[j - 1]):\n",
    "        count = lcs(i - 1, j - 1, count + 1)\n",
    " \n",
    "    count = max(count, max(lcs(i, j - 1, 0),\n",
    "                           lcs(i - 1, j, 0)))\n",
    " \n",
    "    return count\n",
    " \n",
    " \n",
    "# Driver code\n",
    "if __name__ == \"__main__\":\n",
    " \n",
    "    X = \"abcdxyz\"\n",
    "    Y = \"xyzabcdm\"\n",
    "\n",
    "    n = len(X)\n",
    "    m = len(Y)\n",
    " \n",
    "    print(lcs(n, m, 0))"
   ]
  },
  {
   "cell_type": "code",
   "execution_count": 8,
   "metadata": {},
   "outputs": [
    {
     "name": "stdout",
     "output_type": "stream",
     "text": [
      "1\n",
      "3 2\n",
      "ABC\n",
      "AC\n",
      "1\n"
     ]
    }
   ],
   "source": [
    "\n",
    "class Solution:\n",
    "    t = [[0]*(1001) for i in range(1001)]\n",
    "    result=0\n",
    "    def longestCommonSubstr(self, X, Y, m, n):\n",
    "        # code here\n",
    "        for i in range(1,m+1):\n",
    "            for j in range(1,n+1):\n",
    "                if(X[i-1]==Y[j-1]):\n",
    "                    Solution.t[i][j] = 1+Solution.t[i-1][j-1]\n",
    "                    Solution.result = max(Solution.result, Solution.t[i][j])\n",
    "                else:\n",
    "                    Solution.t[i][j]=0\n",
    "        return Solution.result\n",
    "                \n",
    "#{ \n",
    "#  Driver Code Starts\n",
    "#Initial Template for Python 3\n",
    "\n",
    "if __name__=='__main__':\n",
    "    t=int(input())\n",
    "    for _ in range(t):\n",
    "        n,m = input().strip().split(\" \")\n",
    "        n,m = int(n), int(m)\n",
    "        S1 = input().strip()\n",
    "        S2 = input().strip()\n",
    "        \n",
    "        \n",
    "        ob=Solution()\n",
    "        print(ob.longestCommonSubstr(S1, S2, n, m))\n",
    "# } Driver Code Ends"
   ]
  },
  {
   "cell_type": "code",
   "execution_count": null,
   "metadata": {},
   "outputs": [],
   "source": []
  }
 ],
 "metadata": {
  "kernelspec": {
   "display_name": "Python 3",
   "language": "python",
   "name": "python3"
  },
  "language_info": {
   "codemirror_mode": {
    "name": "ipython",
    "version": 3
   },
   "file_extension": ".py",
   "mimetype": "text/x-python",
   "name": "python",
   "nbconvert_exporter": "python",
   "pygments_lexer": "ipython3",
   "version": "3.7.6"
  }
 },
 "nbformat": 4,
 "nbformat_minor": 4
}
