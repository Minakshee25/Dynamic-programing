{
 "cells": [
  {
   "cell_type": "code",
   "execution_count": 19,
   "metadata": {},
   "outputs": [
    {
     "data": {
      "text/plain": [
       "[[0, 0, 0, 0, 0, 0, 0, 0, 0, 0, 0, 0, 0, 0],\n",
       " [0, 0, 0, 0, 0, 0, 0, 0, 0, 0, 0, 0, 0, 0],\n",
       " [0, 0, 0, 0, 0, 0, 0, 0, 0, 0, 0, 0, 0, 0],\n",
       " [0, 0, 0, 0, 0, 0, 0, 0, 0, 0, 0, 0, 0, 0],\n",
       " [0, 0, 0, 0, 0, 0, 0, 0, 0, 0, 0, 0, 0, 0]]"
      ]
     },
     "execution_count": 19,
     "metadata": {},
     "output_type": "execute_result"
    }
   ],
   "source": [
    "k=13\n",
    "arr=[3,7,9,11]\n",
    "n=len(arr)\n",
    "t=[[0]*(k+1) for i in range(n+1)]\n",
    "t"
   ]
  },
  {
   "cell_type": "code",
   "execution_count": 20,
   "metadata": {},
   "outputs": [
    {
     "data": {
      "text/plain": [
       "[[0, 0, 0, 0, 0, 0, 0, 0, 0, 0, 0, 0, 0, 0],\n",
       " [0, 0, 0, 3, 3, 3, 6, 6, 6, 9, 9, 9, 12, 12],\n",
       " [0, 0, 0, 0, 0, 0, 0, 0, 0, 0, 0, 0, 0, 0],\n",
       " [0, 0, 0, 0, 0, 0, 0, 0, 0, 0, 0, 0, 0, 0],\n",
       " [0, 0, 0, 0, 0, 0, 0, 0, 0, 0, 0, 0, 0, 0]]"
      ]
     },
     "execution_count": 20,
     "metadata": {},
     "output_type": "execute_result"
    }
   ],
   "source": [
    "for j in range(1,k+1):\n",
    "    if(j>=arr[0]):\n",
    "        t[1][j] = (j//arr[0])*arr[0]\n",
    "t"
   ]
  },
  {
   "cell_type": "code",
   "execution_count": 21,
   "metadata": {},
   "outputs": [
    {
     "name": "stdout",
     "output_type": "stream",
     "text": [
      "2 7 0 6\n",
      "2 8 0 6\n",
      "2 9 0 9\n",
      "2 10 3 9\n",
      "2 11 3 9\n",
      "2 12 3 12\n",
      "2 13 6 12\n",
      "3 9 0 9\n",
      "3 10 0 9\n",
      "3 11 0 9\n",
      "3 12 3 12\n",
      "3 13 3 12\n",
      "4 11 0 9\n",
      "4 12 0 12\n",
      "4 13 0 12\n"
     ]
    },
    {
     "data": {
      "text/plain": [
       "[[0, 0, 0, 0, 0, 0, 0, 0, 0, 0, 0, 0, 0, 0],\n",
       " [0, 0, 0, 3, 3, 3, 6, 6, 6, 9, 9, 9, 12, 12],\n",
       " [0, 0, 0, 3, 3, 3, 6, 6, 6, 9, 9, 9, 12, 12],\n",
       " [0, 0, 0, 3, 3, 3, 6, 6, 6, 9, 9, 9, 12, 12],\n",
       " [0, 0, 0, 3, 3, 3, 6, 6, 6, 9, 9, 9, 12, 12]]"
      ]
     },
     "execution_count": 21,
     "metadata": {},
     "output_type": "execute_result"
    }
   ],
   "source": [
    "for i in range(2,n+1):\n",
    "    for j in range(1,k+1):\n",
    "        if(arr[i-1]<=j):\n",
    "            print(i,j,t[i][j-arr[i-1]],t[i-1][j])\n",
    "            t[i][j]=max(t[i][j-arr[i-1]],t[i-1][j])\n",
    "        else:\n",
    "            t[i][j] = t[i-1][j]\n",
    "t"
   ]
  },
  {
   "cell_type": "code",
   "execution_count": 18,
   "metadata": {},
   "outputs": [
    {
     "ename": "NameError",
     "evalue": "name 'os' is not defined",
     "output_type": "error",
     "traceback": [
      "\u001b[1;31m---------------------------------------------------------------------------\u001b[0m",
      "\u001b[1;31mNameError\u001b[0m                                 Traceback (most recent call last)",
      "\u001b[1;32m<ipython-input-18-df88d392bae3>\u001b[0m in \u001b[0;36m<module>\u001b[1;34m\u001b[0m\n\u001b[0;32m     16\u001b[0m \u001b[1;33m\u001b[0m\u001b[0m\n\u001b[0;32m     17\u001b[0m \u001b[1;32mif\u001b[0m \u001b[0m__name__\u001b[0m \u001b[1;33m==\u001b[0m \u001b[1;34m'__main__'\u001b[0m\u001b[1;33m:\u001b[0m\u001b[1;33m\u001b[0m\u001b[1;33m\u001b[0m\u001b[0m\n\u001b[1;32m---> 18\u001b[1;33m     \u001b[0mfptr\u001b[0m \u001b[1;33m=\u001b[0m \u001b[0mopen\u001b[0m\u001b[1;33m(\u001b[0m\u001b[0mos\u001b[0m\u001b[1;33m.\u001b[0m\u001b[0menviron\u001b[0m\u001b[1;33m[\u001b[0m\u001b[1;34m'OUTPUT_PATH'\u001b[0m\u001b[1;33m]\u001b[0m\u001b[1;33m,\u001b[0m \u001b[1;34m'w'\u001b[0m\u001b[1;33m)\u001b[0m\u001b[1;33m\u001b[0m\u001b[1;33m\u001b[0m\u001b[0m\n\u001b[0m\u001b[0;32m     19\u001b[0m \u001b[1;33m\u001b[0m\u001b[0m\n\u001b[0;32m     20\u001b[0m     \u001b[0mt\u001b[0m \u001b[1;33m=\u001b[0m \u001b[0mint\u001b[0m\u001b[1;33m(\u001b[0m\u001b[0minput\u001b[0m\u001b[1;33m(\u001b[0m\u001b[1;33m)\u001b[0m\u001b[1;33m.\u001b[0m\u001b[0mstrip\u001b[0m\u001b[1;33m(\u001b[0m\u001b[1;33m)\u001b[0m\u001b[1;33m)\u001b[0m\u001b[1;33m\u001b[0m\u001b[1;33m\u001b[0m\u001b[0m\n",
      "\u001b[1;31mNameError\u001b[0m: name 'os' is not defined"
     ]
    }
   ],
   "source": [
    "def unboundedKnapsack(k, arr):\n",
    "    # Write your code here\n",
    "    n=len(arr)\n",
    "    t=[[0]*(k+1) for i in range(n+1)]\n",
    "    for j in range(1,k+1):\n",
    "        if(j>=arr[0]):\n",
    "            t[1][j] = (j//arr[0])*arr[0]\n",
    "    for i in range(2,n+1):\n",
    "        for j in range(1,k+1):\n",
    "            if(arr[i-1]<=j):\n",
    "                print(i,j,t[i][j-arr[i-1]],t[i-1][j])\n",
    "                t[i][j]=max(arr[i-1]+t[i][j-arr[i-1]],t[i-1][j])\n",
    "            else:\n",
    "                t[i][j] = t[i-1][j]\n",
    "    return t[n][k]\n",
    "\n",
    "if __name__ == '__main__':\n",
    "    fptr = open(os.environ['OUTPUT_PATH'], 'w')\n",
    "\n",
    "    t = int(input().strip())\n",
    "\n",
    "    first_multiple_input = input().rstrip().split()\n",
    "\n",
    "    n = int(first_multiple_input[0])\n",
    "\n",
    "    k = int(first_multiple_input[1])\n",
    "\n",
    "    arr = list(map(int, input().rstrip().split()))\n",
    "\n",
    "    result = unboundedKnapsack(k, arr)\n",
    "\n",
    "    fptr.write(str(result) + '\\n')\n",
    "\n",
    "    fptr.close()"
   ]
  },
  {
   "cell_type": "code",
   "execution_count": 1,
   "metadata": {},
   "outputs": [
    {
     "ename": "KeyError",
     "evalue": "'OUTPUT_PATH'",
     "output_type": "error",
     "traceback": [
      "\u001b[1;31m---------------------------------------------------------------------------\u001b[0m",
      "\u001b[1;31mKeyError\u001b[0m                                  Traceback (most recent call last)",
      "\u001b[1;32m<ipython-input-1-ae404e9d285e>\u001b[0m in \u001b[0;36m<module>\u001b[1;34m\u001b[0m\n\u001b[0;32m     25\u001b[0m \u001b[1;33m\u001b[0m\u001b[0m\n\u001b[0;32m     26\u001b[0m \u001b[1;32mif\u001b[0m \u001b[0m__name__\u001b[0m \u001b[1;33m==\u001b[0m \u001b[1;34m'__main__'\u001b[0m\u001b[1;33m:\u001b[0m\u001b[1;33m\u001b[0m\u001b[1;33m\u001b[0m\u001b[0m\n\u001b[1;32m---> 27\u001b[1;33m     \u001b[0mfptr\u001b[0m \u001b[1;33m=\u001b[0m \u001b[0mopen\u001b[0m\u001b[1;33m(\u001b[0m\u001b[0mos\u001b[0m\u001b[1;33m.\u001b[0m\u001b[0menviron\u001b[0m\u001b[1;33m[\u001b[0m\u001b[1;34m'OUTPUT_PATH'\u001b[0m\u001b[1;33m]\u001b[0m\u001b[1;33m,\u001b[0m \u001b[1;34m'w'\u001b[0m\u001b[1;33m)\u001b[0m\u001b[1;33m\u001b[0m\u001b[1;33m\u001b[0m\u001b[0m\n\u001b[0m\u001b[0;32m     28\u001b[0m \u001b[1;33m\u001b[0m\u001b[0m\n\u001b[0;32m     29\u001b[0m     \u001b[0mt\u001b[0m \u001b[1;33m=\u001b[0m \u001b[0mint\u001b[0m\u001b[1;33m(\u001b[0m\u001b[0minput\u001b[0m\u001b[1;33m(\u001b[0m\u001b[1;33m)\u001b[0m\u001b[1;33m.\u001b[0m\u001b[0mstrip\u001b[0m\u001b[1;33m(\u001b[0m\u001b[1;33m)\u001b[0m\u001b[1;33m)\u001b[0m\u001b[1;33m\u001b[0m\u001b[1;33m\u001b[0m\u001b[0m\n",
      "\u001b[1;32m~\\anaconda3\\lib\\os.py\u001b[0m in \u001b[0;36m__getitem__\u001b[1;34m(self, key)\u001b[0m\n\u001b[0;32m    677\u001b[0m         \u001b[1;32mexcept\u001b[0m \u001b[0mKeyError\u001b[0m\u001b[1;33m:\u001b[0m\u001b[1;33m\u001b[0m\u001b[1;33m\u001b[0m\u001b[0m\n\u001b[0;32m    678\u001b[0m             \u001b[1;31m# raise KeyError with the original key value\u001b[0m\u001b[1;33m\u001b[0m\u001b[1;33m\u001b[0m\u001b[1;33m\u001b[0m\u001b[0m\n\u001b[1;32m--> 679\u001b[1;33m             \u001b[1;32mraise\u001b[0m \u001b[0mKeyError\u001b[0m\u001b[1;33m(\u001b[0m\u001b[0mkey\u001b[0m\u001b[1;33m)\u001b[0m \u001b[1;32mfrom\u001b[0m \u001b[1;32mNone\u001b[0m\u001b[1;33m\u001b[0m\u001b[1;33m\u001b[0m\u001b[0m\n\u001b[0m\u001b[0;32m    680\u001b[0m         \u001b[1;32mreturn\u001b[0m \u001b[0mself\u001b[0m\u001b[1;33m.\u001b[0m\u001b[0mdecodevalue\u001b[0m\u001b[1;33m(\u001b[0m\u001b[0mvalue\u001b[0m\u001b[1;33m)\u001b[0m\u001b[1;33m\u001b[0m\u001b[1;33m\u001b[0m\u001b[0m\n\u001b[0;32m    681\u001b[0m \u001b[1;33m\u001b[0m\u001b[0m\n",
      "\u001b[1;31mKeyError\u001b[0m: 'OUTPUT_PATH'"
     ]
    }
   ],
   "source": [
    "#!/bin/python3\n",
    "\n",
    "import math\n",
    "import os\n",
    "import random\n",
    "import re\n",
    "import sys\n",
    "\n",
    "#\n",
    "# Complete the 'unboundedKnapsack' function below.\n",
    "#\n",
    "# The function is expected to return an INTEGER.\n",
    "# The function accepts following parameters:\n",
    "#  1. INTEGER k\n",
    "#  2. INTEGER_ARRAY arr\n",
    "#\n",
    "\n",
    "def unboundedKnapsack(k, arr):\n",
    "    a=[0]*(k+1)\n",
    "    for i in range(k+1):\n",
    "        for j in range(len(arr)):\n",
    "            if arr[j]<=i:\n",
    "                a[i]=max(a[i],a[i-arr[j]]+arr[j])\n",
    "    return a[k]\n",
    "\n",
    "if __name__ == '__main__':\n",
    "    fptr = open(os.environ['OUTPUT_PATH'], 'w')\n",
    "\n",
    "    t = int(input().strip())\n",
    "    \n",
    "    while(t>0):\n",
    "        first_multiple_input = input().rstrip().split()\n",
    "\n",
    "        n = int(first_multiple_input[0])\n",
    "\n",
    "        k = int(first_multiple_input[1])\n",
    "\n",
    "        arr = list(map(int, input().rstrip().split()))\n",
    "\n",
    "        result = unboundedKnapsack(k, arr)\n",
    "\n",
    "        fptr.write(str(result) + '\\n')\n",
    "        t-=1\n",
    "\n",
    "    fptr.close()\n"
   ]
  },
  {
   "cell_type": "code",
   "execution_count": 7,
   "metadata": {
    "scrolled": true
   },
   "outputs": [
    {
     "name": "stdout",
     "output_type": "stream",
     "text": [
      "2 0 0 2\n",
      "2\n",
      "3 0 0 2\n",
      "2\n",
      "3 1 2 3\n",
      "3\n",
      "4 0 0 4\n",
      "4\n",
      "4 1 4 3\n",
      "4\n",
      "4 2 4 4\n",
      "4\n",
      "5 0 0 5\n",
      "5\n",
      "5 1 5 5\n",
      "5\n",
      "5 2 5 4\n",
      "5\n",
      "6 0 0 6\n",
      "6\n",
      "6 1 6 6\n",
      "6\n",
      "6 2 6 6\n",
      "6\n",
      "7 0 0 7\n",
      "7\n",
      "7 1 7 7\n",
      "7\n",
      "7 2 7 7\n",
      "7\n",
      "8 0 0 8\n",
      "8\n",
      "8 1 8 8\n",
      "8\n",
      "8 2 8 8\n",
      "8\n",
      "9 0 0 9\n",
      "9\n",
      "9 1 9 9\n",
      "9\n",
      "9 2 9 9\n",
      "9\n",
      "10 0 0 10\n",
      "10\n",
      "10 1 10 10\n",
      "10\n",
      "10 2 10 10\n",
      "10\n",
      "11 0 0 11\n",
      "11\n",
      "11 1 11 11\n",
      "11\n",
      "11 2 11 11\n",
      "11\n",
      "11\n"
     ]
    }
   ],
   "source": [
    "arr=[2,3,4]\n",
    "k=11\n",
    "a=[0]*(k+1)\n",
    "for i in range(k+1):\n",
    "    for j in range(len(arr)):\n",
    "        if arr[j]<=i:\n",
    "            print(i,j,a[i],a[i-arr[j]]+arr[j])\n",
    "            a[i]=max(a[i],a[i-arr[j]]+arr[j])\n",
    "            print(a[i])\n",
    "print(a[k])"
   ]
  },
  {
   "cell_type": "code",
   "execution_count": 10,
   "metadata": {
    "scrolled": true
   },
   "outputs": [
    {
     "name": "stdout",
     "output_type": "stream",
     "text": [
      "1 2 0 0\n",
      "1 3 0 0\n",
      "1 4 2 0\n",
      "1 5 2 0\n",
      "1 6 4 0\n",
      "1 7 4 0\n",
      "1 8 6 0\n",
      "1 9 6 0\n",
      "1 10 8 0\n",
      "2 3 0 2\n",
      "2 4 0 4\n",
      "2 5 2 4\n",
      "2 6 3 6\n",
      "2 7 4 6\n",
      "2 8 5 8\n",
      "2 9 6 8\n",
      "2 10 7 10\n",
      "3 5 0 5\n",
      "3 6 0 6\n",
      "3 7 2 7\n",
      "3 8 3 8\n",
      "3 9 4 9\n",
      "3 10 5 10\n"
     ]
    },
    {
     "data": {
      "text/plain": [
       "[[0, 0, 0, 0, 0, 0, 0, 0, 0, 0, 0],\n",
       " [0, 0, 2, 2, 4, 4, 6, 6, 8, 8, 10],\n",
       " [0, 0, 2, 3, 4, 5, 6, 7, 8, 9, 10],\n",
       " [0, 0, 2, 3, 4, 5, 6, 7, 8, 9, 10]]"
      ]
     },
     "execution_count": 10,
     "metadata": {},
     "output_type": "execute_result"
    }
   ],
   "source": [
    "n=3\n",
    "arr=[2,3,5]\n",
    "k=10\n",
    "t=[[0]*(k+1) for i in range(n+1)]\n",
    "\n",
    "for i in range(1,n+1):\n",
    "    for j in range(1,k+1):\n",
    "        if(arr[i-1]<=j):\n",
    "            t[i][j]=max(arr[i-1]+t[i][j-arr[i-1]],t[i-1][j])\n",
    "        else:\n",
    "            t[i][j] = t[i-1][j]\n",
    "t"
   ]
  },
  {
   "cell_type": "code",
   "execution_count": null,
   "metadata": {},
   "outputs": [],
   "source": []
  },
  {
   "cell_type": "code",
   "execution_count": null,
   "metadata": {},
   "outputs": [],
   "source": []
  }
 ],
 "metadata": {
  "kernelspec": {
   "display_name": "Python 3",
   "language": "python",
   "name": "python3"
  },
  "language_info": {
   "codemirror_mode": {
    "name": "ipython",
    "version": 3
   },
   "file_extension": ".py",
   "mimetype": "text/x-python",
   "name": "python",
   "nbconvert_exporter": "python",
   "pygments_lexer": "ipython3",
   "version": "3.7.6"
  }
 },
 "nbformat": 4,
 "nbformat_minor": 4
}
