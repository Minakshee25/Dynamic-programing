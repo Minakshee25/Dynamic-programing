{
 "cells": [
  {
   "cell_type": "code",
   "execution_count": null,
   "metadata": {},
   "outputs": [],
   "source": []
  },
  {
   "cell_type": "code",
   "execution_count": 5,
   "metadata": {},
   "outputs": [
    {
     "ename": "TabError",
     "evalue": "inconsistent use of tabs and spaces in indentation (<ipython-input-5-dfda9d531e2e>, line 5)",
     "output_type": "error",
     "traceback": [
      "\u001b[1;36m  File \u001b[1;32m\"<ipython-input-5-dfda9d531e2e>\"\u001b[1;36m, line \u001b[1;32m5\u001b[0m\n\u001b[1;33m    t=[i for i in Arr]\u001b[0m\n\u001b[1;37m                      ^\u001b[0m\n\u001b[1;31mTabError\u001b[0m\u001b[1;31m:\u001b[0m inconsistent use of tabs and spaces in indentation\n"
     ]
    }
   ],
   "source": [
    "#User function Template for python3\n",
    "class Solution:\n",
    "\tdef maxSumIS(self, Arr, n):\n",
    "\t\t# code here\n",
    "        t=[i for i in Arr]\n",
    "        for i in range(1,n):\n",
    "            for j in range(0,i):\n",
    "                if(Arr[i]>Arr[j] and t[i]<t[j]+Arr[i]):\n",
    "                    t[i]=t[j]+Arr[i]\n",
    "        return max(t)\n",
    "\n",
    "#{ \n",
    "#  Driver Code Starts\n",
    "#Initial Template for Python 3\n",
    "\n",
    "if __name__ == '__main__':\n",
    "\tT=int(input())\n",
    "\tfor i in range(T):\n",
    "\t\tn = int(input())\n",
    "\t\tArr = [int(x) for x in input().split()]\n",
    "\t\tob = Solution()\n",
    "\t\tans = ob.maxSumIS(Arr,n)\n",
    "\t\tprint(ans)\n",
    "\n",
    "# } Driver Code Ends"
   ]
  },
  {
   "cell_type": "code",
   "execution_count": 3,
   "metadata": {},
   "outputs": [
    {
     "name": "stdout",
     "output_type": "stream",
     "text": [
      "[1, 101, 2, 3, 100]\n"
     ]
    }
   ],
   "source": [
    "def maxsumis(Arr,n):\n",
    "    t=[i for i in Arr]\n",
    "    print(t)\n",
    "Arr=[1, 101, 2, 3, 100]\n",
    "n=len(Arr)\n",
    "maxsumis(Arr,n)"
   ]
  },
  {
   "cell_type": "code",
   "execution_count": null,
   "metadata": {},
   "outputs": [],
   "source": []
  }
 ],
 "metadata": {
  "kernelspec": {
   "display_name": "Python 3",
   "language": "python",
   "name": "python3"
  },
  "language_info": {
   "codemirror_mode": {
    "name": "ipython",
    "version": 3
   },
   "file_extension": ".py",
   "mimetype": "text/x-python",
   "name": "python",
   "nbconvert_exporter": "python",
   "pygments_lexer": "ipython3",
   "version": "3.7.6"
  }
 },
 "nbformat": 4,
 "nbformat_minor": 4
}
