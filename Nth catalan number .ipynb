{
 "cells": [
  {
   "cell_type": "code",
   "execution_count": null,
   "metadata": {},
   "outputs": [],
   "source": [
    "#User function Template for python3\n",
    "\n",
    "class Solution:\n",
    "    #Function to find the nth catalan number.\n",
    "    def findCatalan(self,n):\n",
    "        if (n == 0 or n == 1):\n",
    "            return 1\n",
    "        catalan =[0]*(n+1)\n",
    "        catalan[0] = 1\n",
    "        catalan[1] = 1\n",
    "        for i in range(2, n + 1):\n",
    "            for j in range(i):\n",
    "                catalan[i] += catalan[j]* catalan[i-j-1]\n",
    "        return catalan[n]\n",
    "        \n",
    "#{ \n",
    "#  Driver Code Starts\n",
    "#Initial Template for Python 3\n",
    "\n",
    "#contributed by RavinderSinghPB\n",
    "if __name__ == '__main__': \n",
    "    t=int(input())\n",
    "    for tcs in range(t):\n",
    "        n=int(input())\n",
    "        \n",
    "        print(Solution().findCatalan(n))\n",
    "        \n",
    "# } Driver Code Ends"
   ]
  }
 ],
 "metadata": {
  "kernelspec": {
   "display_name": "Python 3",
   "language": "python",
   "name": "python3"
  },
  "language_info": {
   "codemirror_mode": {
    "name": "ipython",
    "version": 3
   },
   "file_extension": ".py",
   "mimetype": "text/x-python",
   "name": "python",
   "nbconvert_exporter": "python",
   "pygments_lexer": "ipython3",
   "version": "3.7.6"
  }
 },
 "nbformat": 4,
 "nbformat_minor": 4
}
