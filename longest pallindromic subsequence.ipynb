{
 "cells": [
  {
   "cell_type": "code",
   "execution_count": 3,
   "metadata": {},
   "outputs": [
    {
     "data": {
      "text/plain": [
       "5"
      ]
     },
     "execution_count": 3,
     "metadata": {},
     "output_type": "execute_result"
    }
   ],
   "source": [
    "s=\"geeksforgeeks\"\n",
    "def lcs(s1,s2,x,y):\n",
    "    t=[[0]*(y+1) for i in range(x+1)]\n",
    "    for i in range(1,x+1):\n",
    "        for j in range(1,y+1):\n",
    "            if(s1[i-1]==s2[j-1]):\n",
    "                t[i][j] = 1+t[i-1][j-1]\n",
    "            else:\n",
    "                t[i][j] = max(t[i-1][j],t[i][j-1])\n",
    "    return t[x][y]\n",
    "def longestPallindromicSubsequence(s):\n",
    "    r=s[::-1]\n",
    "    lps = lcs(s,r,len(s),len(r))\n",
    "    return lps\n",
    "longestPallindromicSubsequence(s)"
   ]
  },
  {
   "cell_type": "code",
   "execution_count": null,
   "metadata": {},
   "outputs": [],
   "source": []
  }
 ],
 "metadata": {
  "kernelspec": {
   "display_name": "Python 3",
   "language": "python",
   "name": "python3"
  },
  "language_info": {
   "codemirror_mode": {
    "name": "ipython",
    "version": 3
   },
   "file_extension": ".py",
   "mimetype": "text/x-python",
   "name": "python",
   "nbconvert_exporter": "python",
   "pygments_lexer": "ipython3",
   "version": "3.7.6"
  }
 },
 "nbformat": 4,
 "nbformat_minor": 4
}
