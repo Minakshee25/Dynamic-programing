{
 "cells": [
  {
   "cell_type": "code",
   "execution_count": 46,
   "metadata": {},
   "outputs": [
    {
     "name": "stdout",
     "output_type": "stream",
     "text": [
      "1\n",
      "4\n",
      "7 1 4 8\n",
      "2\n"
     ]
    }
   ],
   "source": [
    "#User function Template for python3\n",
    "class Solution:\n",
    "    def issubsetsum(self,arr,s):\n",
    "        n=len(arr)\n",
    "        t=[[False]*(s+1) for i in range(n+1)]\n",
    "\n",
    "        for i in range(n+1):\n",
    "            t[i][0]=True\n",
    "        for i in range(1,n+1):\n",
    "            for j in range(1,s+1):\n",
    "                if(arr[i-1]<=j):\n",
    "                    t[i][j]=t[i-1][j-arr[i-1]] or t[i-1][j]\n",
    "                else:\n",
    "                    t[i][j]=t[i-1][j]\n",
    "        return (t[n][s])\n",
    "    def minDiffernce(self,arr,n):\n",
    "        k=sum(arr)//2\n",
    "        ans=False\n",
    "        while(ans!=True):\n",
    "            ans=self.issubsetsum(arr,k)\n",
    "            k=k-1\n",
    "        return sum(arr)-(k+1)*2\n",
    "\n",
    "#{ \n",
    "#  Driver Code Starts\n",
    "#Initial Template for Python 3\n",
    "\n",
    "if __name__ == '__main__':\n",
    "\tT=int(input())\n",
    "\tfor i in range(T):\n",
    "\t\tN = int(input())\n",
    "\t\tarr = [int(x) for x in input().split()]\n",
    "\t\tob = Solution()\n",
    "\t\tans = ob.minDiffernce(arr, N)\n",
    "\t\tprint(ans)\n",
    "\n",
    "# } Driver Code Ends"
   ]
  },
  {
   "cell_type": "code",
   "execution_count": 43,
   "metadata": {
    "scrolled": false
   },
   "outputs": [
    {
     "name": "stdout",
     "output_type": "stream",
     "text": [
      "False\n"
     ]
    }
   ],
   "source": [
    "arr=[5,6,7,2]\n",
    "s=10\n",
    "n=len(arr)\n",
    "t=[[False]*(s+1) for i in range(n+1)]\n",
    "\n",
    "for i in range(n+1):\n",
    "    t[i][0]=True\n",
    "for i in range(1,n+1):\n",
    "    for j in range(1,s+1):\n",
    "        if(arr[i-1]<=j):\n",
    "            t[i][j]=t[i-1][j-arr[i-1]] or t[i-1][j]\n",
    "        else:\n",
    "            t[i][j]=t[i-1][j]\n",
    "print(t[n][s])"
   ]
  },
  {
   "cell_type": "code",
   "execution_count": 12,
   "metadata": {},
   "outputs": [
    {
     "name": "stdout",
     "output_type": "stream",
     "text": [
      "1\n",
      "4\n",
      "1 6 11 5\n",
      "[0, 1, 5, 6, 7, 11]\n",
      "1\n"
     ]
    }
   ],
   "source": [
    "#User function Template for python3\n",
    "class Solution:\n",
    "    def minDiffernce(self,arr,n):\n",
    "        s=sum(arr)\n",
    "        t=[[False]*(s+1) for i in range(n+1)]\n",
    "        \n",
    "        for i in range(n+1):\n",
    "            t[i][0]=True\n",
    "        for i in range(1,n+1):\n",
    "            for j in range(1,s+1):\n",
    "                if(arr[i-1]<=j):\n",
    "                    t[i][j]=t[i-1][j-arr[i-1]] or t[i-1][j]\n",
    "                else:\n",
    "                    t[i][j]=t[i-1][j]\n",
    "        k=s//2\n",
    "        lst=[]\n",
    "        for j in range(k+1):\n",
    "            if(t[n][j]==True):\n",
    "                lst.append(j)\n",
    "        return s-2*lst[-1]\n",
    "\n",
    "#{ \n",
    "#  Driver Code Starts\n",
    "#Initial Template for Python 3\n",
    "\n",
    "if __name__ == '__main__':\n",
    "\tT=int(input())\n",
    "\tfor i in range(T):\n",
    "\t\tN = int(input())\n",
    "\t\tarr = [int(x) for x in input().split()]\n",
    "\t\tob = Solution()\n",
    "\t\tans = ob.minDiffernce(arr, N)\n",
    "\t\tprint(ans)\n",
    "\n",
    "# } Driver Code Ends"
   ]
  },
  {
   "cell_type": "code",
   "execution_count": 16,
   "metadata": {},
   "outputs": [
    {
     "name": "stdout",
     "output_type": "stream",
     "text": [
      "1\n",
      "4\n",
      "1 6 11 5\n",
      "1\n"
     ]
    }
   ],
   "source": [
    "#User function Template for python3\n",
    "class Solution:\n",
    "    def minDiffernce(self,arr,n):\n",
    "        s=sum(arr)\n",
    "        t=[[False]*(s+1) for i in range(n+1)]\n",
    "        \n",
    "        for i in range(n+1):\n",
    "            t[i][0]=True\n",
    "        for i in range(1,n+1):\n",
    "            for j in range(1,s+1):\n",
    "                if(arr[i-1]<=j):\n",
    "                    t[i][j]=t[i-1][j-arr[i-1]] or t[i-1][j]\n",
    "                else:\n",
    "                    t[i][j]=t[i-1][j]\n",
    "        k=s//2\n",
    "        for j in range(k+1)[::-1]:\n",
    "            if(t[n][j]==True):\n",
    "                return s-2*j\n",
    "\n",
    "#{ \n",
    "#  Driver Code Starts\n",
    "#Initial Template for Python 3\n",
    "\n",
    "if __name__ == '__main__':\n",
    "\tT=int(input())\n",
    "\tfor i in range(T):\n",
    "\t\tN = int(input())\n",
    "\t\tarr = [int(x) for x in input().split()]\n",
    "\t\tob = Solution()\n",
    "\t\tans = ob.minDiffernce(arr, N)\n",
    "\t\tprint(ans)\n",
    "\n",
    "# } Driver Code Ends"
   ]
  },
  {
   "cell_type": "code",
   "execution_count": 14,
   "metadata": {},
   "outputs": [
    {
     "name": "stdout",
     "output_type": "stream",
     "text": [
      "4\n",
      "3\n",
      "2\n",
      "1\n",
      "0\n"
     ]
    }
   ],
   "source": [
    "for j in range(5)[::-1]:\n",
    "    print(j)"
   ]
  },
  {
   "cell_type": "code",
   "execution_count": null,
   "metadata": {},
   "outputs": [],
   "source": []
  }
 ],
 "metadata": {
  "kernelspec": {
   "display_name": "Python 3",
   "language": "python",
   "name": "python3"
  },
  "language_info": {
   "codemirror_mode": {
    "name": "ipython",
    "version": 3
   },
   "file_extension": ".py",
   "mimetype": "text/x-python",
   "name": "python",
   "nbconvert_exporter": "python",
   "pygments_lexer": "ipython3",
   "version": "3.7.6"
  }
 },
 "nbformat": 4,
 "nbformat_minor": 4
}
