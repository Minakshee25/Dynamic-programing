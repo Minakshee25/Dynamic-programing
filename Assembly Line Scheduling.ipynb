{
 "cells": [
  {
   "cell_type": "code",
   "execution_count": null,
   "metadata": {},
   "outputs": [],
   "source": []
  },
  {
   "cell_type": "code",
   "execution_count": 3,
   "metadata": {},
   "outputs": [
    {
     "data": {
      "text/plain": [
       "35"
      ]
     },
     "execution_count": 3,
     "metadata": {},
     "output_type": "execute_result"
    }
   ],
   "source": [
    "def func(a,t,e,x):\n",
    "    # n is number of stations\n",
    "    n=len(a[0])\n",
    "    T1=[0]*(n)\n",
    "    T2=[0]*(n)\n",
    "    \n",
    "    # Time taken to leave first station in line 1\n",
    "    T1[0] = e[0] + a[0][0]\n",
    "    \n",
    "    # Time taken to leave first station in line 2\n",
    "    T2[0] = e[1] + a[1][0]\n",
    "    \n",
    "    # for loop\n",
    "    for i in range(1,n):\n",
    "        T1[i] = min(T1[i-1] + a[0][i], T2[i-1] + t[1][i] + a[0][i])\n",
    "        T2[i] = min(T2[i-1] + a[1][i], T1[i-1] + t[0][i] + a[1][i])\n",
    "    \n",
    "    # add exit time for last station\n",
    "    # return minimum out of last stations\n",
    "    return min(T1[n-1]+x[0], T2[n-1]+x[1])\n",
    "    \n",
    "a = [[4, 5, 3, 2],\n",
    "     [2, 10, 1, 4]]\n",
    "t = [[0, 7, 4, 5],\n",
    "     [0, 9, 2, 8]]\n",
    "e = [10, 12]\n",
    "x = [18, 7]\n",
    "func(a,t,e,x)"
   ]
  },
  {
   "cell_type": "code",
   "execution_count": null,
   "metadata": {},
   "outputs": [],
   "source": []
  }
 ],
 "metadata": {
  "kernelspec": {
   "display_name": "Python 3",
   "language": "python",
   "name": "python3"
  },
  "language_info": {
   "codemirror_mode": {
    "name": "ipython",
    "version": 3
   },
   "file_extension": ".py",
   "mimetype": "text/x-python",
   "name": "python",
   "nbconvert_exporter": "python",
   "pygments_lexer": "ipython3",
   "version": "3.7.6"
  }
 },
 "nbformat": 4,
 "nbformat_minor": 4
}
