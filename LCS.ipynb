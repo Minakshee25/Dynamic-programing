{
 "cells": [
  {
   "cell_type": "code",
   "execution_count": null,
   "metadata": {},
   "outputs": [],
   "source": []
  },
  {
   "cell_type": "code",
   "execution_count": null,
   "metadata": {},
   "outputs": [],
   "source": [
    "def lcs(self,x,y,s1,s2):\n"
   ]
  },
  {
   "cell_type": "code",
   "execution_count": 8,
   "metadata": {},
   "outputs": [
    {
     "name": "stdout",
     "output_type": "stream",
     "text": [
      "1\n",
      "11 5\n",
      "UBZVAFSPQPQ\n",
      "WUZIF\n",
      "3\n"
     ]
    }
   ],
   "source": [
    "#User function Template for python3\n",
    "\n",
    "class Solution:\n",
    "    \n",
    "    #Function to find the length of longest common subsequence in two strings.\n",
    "    t = [[-1]*(1001) for i in range(1001)]\n",
    "    def lcs(self,x,y,s1,s2):\n",
    "        if(x==0 or y==0):\n",
    "            return 0\n",
    "        elif(Solution.t[x][y]!=-1):\n",
    "            return Solution.t[x][y]\n",
    "        elif(s1[x-1]==s2[y-1]):\n",
    "            Solution.t[x][y] = 1+self.lcs(x-1,y-1,s1,s2)\n",
    "            return Solution.t[x][y]\n",
    "        else:\n",
    "            Solution.t[x][y] = max(self.lcs(x-1,y,s1,s2),self.lcs(x,y-1,s1,s2))\n",
    "            return Solution.t[x][y]\n",
    "\n",
    "\n",
    "#{ \n",
    "#  Driver Code Starts\n",
    "#Initial Template for Python 3\n",
    "import atexit\n",
    "import io\n",
    "import sys\n",
    "\n",
    "# Contributed by : Nagendra Jha\n",
    "\n",
    "if __name__ == '__main__':\n",
    "    test_cases = int(input())\n",
    "    for cases in range(test_cases):\n",
    "        x,y = map(int,input().strip().split())\n",
    "        s1 = str(input())\n",
    "        s2 = str(input())\n",
    "        ob=Solution()\n",
    "        print(ob.lcs(x,y,s1,s2))\n",
    "# } Driver Code Ends"
   ]
  },
  {
   "cell_type": "code",
   "execution_count": 11,
   "metadata": {},
   "outputs": [
    {
     "name": "stdout",
     "output_type": "stream",
     "text": [
      "1\n",
      "11 5\n",
      "UBZVAFSPQPQ\n",
      "WUZIF\n",
      "3\n"
     ]
    }
   ],
   "source": [
    "#User function Template for python3\n",
    "\n",
    "class Solution:\n",
    "    \n",
    "    #Function to find the length of longest common subsequence in two strings.\n",
    "    t = [[0]*(1001) for i in range(1001)]\n",
    "    def lcs(self,x,y,s1,s2):\n",
    "        for i in range(1,x+1):\n",
    "            for j in range(1,y+1):\n",
    "                if(s1[i-1]==s2[j-1]):\n",
    "                    Solution.t[i][j] = 1+Solution.t[i-1][j-1]\n",
    "                else:\n",
    "                    Solution.t[i][j] = max(Solution.t[i-1][j],Solution.t[i][j-1])\n",
    "        return Solution.t[x][y]\n",
    "\n",
    "#{ \n",
    "#  Driver Code Starts\n",
    "#Initial Template for Python 3\n",
    "import atexit\n",
    "import io\n",
    "import sys\n",
    "\n",
    "# Contributed by : Nagendra Jha\n",
    "\n",
    "if __name__ == '__main__':\n",
    "    test_cases = int(input())\n",
    "    for cases in range(test_cases):\n",
    "        x,y = map(int,input().strip().split())\n",
    "        s1 = str(input())\n",
    "        s2 = str(input())\n",
    "        ob=Solution()\n",
    "        print(ob.lcs(x,y,s1,s2))\n",
    "# } Driver Code Ends"
   ]
  },
  {
   "cell_type": "code",
   "execution_count": null,
   "metadata": {},
   "outputs": [],
   "source": [
    "#User function Template for python3\n",
    "\n",
    "class Solution:\n",
    "    \n",
    "    #Function to find the length of longest common subsequence in two strings.\n",
    "    \n",
    "\n",
    "#{ \n",
    "#  Driver Code Starts\n",
    "#Initial Template for Python 3\n",
    "import atexit\n",
    "import io\n",
    "import sys\n",
    "\n",
    "# Contributed by : Nagendra Jha\n",
    "\n",
    "if __name__ == '__main__':\n",
    "    test_cases = int(input())\n",
    "    for cases in range(test_cases):\n",
    "        x,y = map(int,input().strip().split())\n",
    "        s1 = str(input())\n",
    "        s2 = str(input())\n",
    "        ob=Solution()\n",
    "        print(ob.lcs(x,y,s1,s2))\n",
    "# } Driver Code Ends"
   ]
  }
 ],
 "metadata": {
  "kernelspec": {
   "display_name": "Python 3",
   "language": "python",
   "name": "python3"
  },
  "language_info": {
   "codemirror_mode": {
    "name": "ipython",
    "version": 3
   },
   "file_extension": ".py",
   "mimetype": "text/x-python",
   "name": "python",
   "nbconvert_exporter": "python",
   "pygments_lexer": "ipython3",
   "version": "3.7.6"
  }
 },
 "nbformat": 4,
 "nbformat_minor": 4
}
