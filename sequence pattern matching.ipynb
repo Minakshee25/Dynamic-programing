{
 "cells": [
  {
   "cell_type": "code",
   "execution_count": 4,
   "metadata": {},
   "outputs": [
    {
     "name": "stdout",
     "output_type": "stream",
     "text": [
      "s1 is subsequence of s2\n"
     ]
    }
   ],
   "source": [
    "def lcs(s1,s2,x,y):\n",
    "    t=[[0]*(y+1) for i in range(x+1)]\n",
    "    for i in range(1,x+1):\n",
    "        for j in range(1,y+1):\n",
    "            if(s1[i-1]==s2[j-1]):\n",
    "                t[i][j] = 1+t[i-1][j-1]\n",
    "            else:\n",
    "                t[i][j] = max(t[i-1][j],t[i][j-1])\n",
    "    return t[x][y]\n",
    "s1=\"AXY\"\n",
    "s2=\"ASXCPY\"\n",
    "ans=lcs(s1,s2,len(s1),len(s2))\n",
    "if(ans == len(s1)):\n",
    "    print(\"s1 is subsequence of s2\")\n",
    "elif(ans==len(s2)):\n",
    "    print(\"s2 is subsequence of s1\")\n",
    "else:\n",
    "    print(\"Not a subsequence\")"
   ]
  },
  {
   "cell_type": "code",
   "execution_count": null,
   "metadata": {},
   "outputs": [],
   "source": []
  }
 ],
 "metadata": {
  "kernelspec": {
   "display_name": "Python 3",
   "language": "python",
   "name": "python3"
  },
  "language_info": {
   "codemirror_mode": {
    "name": "ipython",
    "version": 3
   },
   "file_extension": ".py",
   "mimetype": "text/x-python",
   "name": "python",
   "nbconvert_exporter": "python",
   "pygments_lexer": "ipython3",
   "version": "3.7.6"
  }
 },
 "nbformat": 4,
 "nbformat_minor": 4
}
