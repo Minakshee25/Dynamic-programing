{
 "cells": [
  {
   "cell_type": "code",
   "execution_count": 10,
   "metadata": {},
   "outputs": [
    {
     "data": {
      "text/plain": [
       "'jefghi'"
      ]
     },
     "execution_count": 10,
     "metadata": {},
     "output_type": "execute_result"
    }
   ],
   "source": [
    "s1='efgh'\n",
    "s2='jghi'\n",
    "res=''\n",
    "for i in range(len(s2)):\n",
    "    p=s1.find(s2[i])\n",
    "    if(p==-1):\n",
    "        res=res+s2[i]\n",
    "    else:\n",
    "        res=res+s1[:p+1]\n",
    "        s1=s1[p+1:]\n",
    "res"
   ]
  },
  {
   "cell_type": "code",
   "execution_count": 16,
   "metadata": {},
   "outputs": [
    {
     "name": "stdout",
     "output_type": "stream",
     "text": [
      "1\n",
      "nablhvsjmriftxjrlhnszricvabvwibl jeysbrenimubjfvwmionbypwysuwbxkm\n",
      "('nablhvsjeymriftxjrlhnszricvabrenvwimubjfvwmionbypwysuwbxkml', 59)\n"
     ]
    }
   ],
   "source": [
    "#User function Template for python3\n",
    "\n",
    "class Solution:\n",
    "    \n",
    "    #Function to find length of shortest common supersequence of two strings.\n",
    "    def shortestCommonSupersequence(self, s1, s2, m, n):\n",
    "        res=''\n",
    "        for i in range(n):\n",
    "            p=s1.find(s2[i])\n",
    "            if(p==-1):\n",
    "                res=res+s2[i]\n",
    "            else:\n",
    "                res=res+s1[:p+1]\n",
    "                s1=s1[p+1:]\n",
    "        if(len(s1)!=0):\n",
    "            res=res+s1\n",
    "        return res,len(res)\n",
    "#{ \n",
    "#  Driver Code Starts\n",
    "#Initial Template for Python 3\n",
    "\n",
    "#contributed by RavinderSinghPB\n",
    "if __name__ == '__main__': \n",
    "    t=int(input())\n",
    "    for tcs in range(t):\n",
    "        X,Y=input().split()\n",
    "        \n",
    "        print(Solution().shortestCommonSupersequence(X,Y,len(X),len(Y)))\n",
    "        \n",
    "# } Driver Code Ends"
   ]
  },
  {
   "cell_type": "code",
   "execution_count": 18,
   "metadata": {},
   "outputs": [
    {
     "name": "stdout",
     "output_type": "stream",
     "text": [
      "1\n",
      "nablhvsjmriftxjrlhnszricvabvwibl jeysbrenimubjfvwmionbypwysuwbxkm\n",
      "55\n"
     ]
    }
   ],
   "source": [
    "#User function Template for python3\n",
    "\n",
    "class Solution:\n",
    "    def lcs(self,X,Y,m,n):\n",
    "        t=[[0]*(n+1) for i in range(m+1)]\n",
    "        for i in range(1,m+1):\n",
    "            for j in range(1,n+1):\n",
    "                if(X[i-1]==Y[j-1]):\n",
    "                    t[i][j] = 1+t[i-1][j-1]\n",
    "                else:\n",
    "                    t[i][j] = max(t[i-1][j],t[i][j-1])\n",
    "        return t[m][n]\n",
    "    #Function to find length of shortest common supersequence of two strings.\n",
    "    def shortestCommonSupersequence(self, X, Y, m, n):\n",
    "        l=self.lcs(X,Y,m,n)\n",
    "        return m+n-l\n",
    "#{ \n",
    "#  Driver Code Starts\n",
    "#Initial Template for Python 3\n",
    "\n",
    "#contributed by RavinderSinghPB\n",
    "if __name__ == '__main__': \n",
    "    t=int(input())\n",
    "    for tcs in range(t):\n",
    "        X,Y=input().split()\n",
    "        \n",
    "        print(Solution().shortestCommonSupersequence(X,Y,len(X),len(Y)))\n",
    "        \n",
    "# } Driver Code Ends"
   ]
  },
  {
   "cell_type": "code",
   "execution_count": null,
   "metadata": {},
   "outputs": [],
   "source": [
    "#User function Template for python3\n",
    "\n",
    "class Solution:\n",
    "    \n",
    "    #Function to find the length of longest common subsequence in two strings.\n",
    "    t = [[0]*(1001) for i in range(1001)]\n",
    "    def lcs(self,x,y,s1,s2):\n",
    "        for i in range(1,x+1):\n",
    "            for j in range(1,y+1):\n",
    "                if(s1[i-1]==s2[j-1]):\n",
    "                    Solution.t[i][j] = 1+Solution.t[i-1][j-1]\n",
    "                else:\n",
    "                    Solution.t[i][j] = max(Solution.t[i-1][j],Solution.t[i][j-1])\n",
    "        return Solution.t[x][y]\n",
    "\n",
    "#{ \n",
    "#  Driver Code Starts\n",
    "#Initial Template for Python 3\n",
    "import atexit\n",
    "import io\n",
    "import sys\n",
    "\n",
    "# Contributed by : Nagendra Jha\n",
    "\n",
    "if __name__ == '__main__':\n",
    "    test_cases = int(input())\n",
    "    for cases in range(test_cases):\n",
    "        x,y = map(int,input().strip().split())\n",
    "        s1 = str(input())\n",
    "        s2 = str(input())\n",
    "        ob=Solution()\n",
    "        print(ob.lcs(x,y,s1,s2))\n",
    "# } Driver Code Ends"
   ]
  }
 ],
 "metadata": {
  "kernelspec": {
   "display_name": "Python 3",
   "language": "python",
   "name": "python3"
  },
  "language_info": {
   "codemirror_mode": {
    "name": "ipython",
    "version": 3
   },
   "file_extension": ".py",
   "mimetype": "text/x-python",
   "name": "python",
   "nbconvert_exporter": "python",
   "pygments_lexer": "ipython3",
   "version": "3.7.6"
  }
 },
 "nbformat": 4,
 "nbformat_minor": 4
}
