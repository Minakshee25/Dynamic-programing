{
 "cells": [
  {
   "cell_type": "code",
   "execution_count": 21,
   "metadata": {},
   "outputs": [],
   "source": [
    "class solution:\n",
    "    def givendiff(self,arr,n,d):\n",
    "        s=sum(arr)\n",
    "        t=[[0]*(s+1) for i in range(n+1)]\n",
    "        \n",
    "        for i in range(n+1):\n",
    "            t[i][0]=1\n",
    "        for i in range(1,n+1):\n",
    "            for j in range(1,s+1):\n",
    "                if(arr[i-1]<=j):\n",
    "                    t[i][j]=t[i-1][j-arr[i-1]]+t[i-1][j]\n",
    "                else:\n",
    "                    t[i][j]=t[i-1][j]\n",
    "        s1=(d+s)//2\n",
    "        return t[n][s1]"
   ]
  },
  {
   "cell_type": "code",
   "execution_count": 22,
   "metadata": {},
   "outputs": [
    {
     "name": "stdout",
     "output_type": "stream",
     "text": [
      "4\n",
      "1 1 2 3\n",
      "1\n",
      "3\n"
     ]
    }
   ],
   "source": [
    "n=int(input())\n",
    "arr=list(map(int,input().split()))\n",
    "d=int(input())\n",
    "ob=solution()\n",
    "c=ob.givendiff(arr,n,d)\n",
    "print(c)"
   ]
  },
  {
   "cell_type": "code",
   "execution_count": null,
   "metadata": {},
   "outputs": [],
   "source": []
  }
 ],
 "metadata": {
  "kernelspec": {
   "display_name": "Python 3",
   "language": "python",
   "name": "python3"
  },
  "language_info": {
   "codemirror_mode": {
    "name": "ipython",
    "version": 3
   },
   "file_extension": ".py",
   "mimetype": "text/x-python",
   "name": "python",
   "nbconvert_exporter": "python",
   "pygments_lexer": "ipython3",
   "version": "3.7.6"
  }
 },
 "nbformat": 4,
 "nbformat_minor": 4
}
